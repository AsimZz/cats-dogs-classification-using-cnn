{
 "metadata": {
  "language_info": {
   "codemirror_mode": {
    "name": "ipython",
    "version": 3
   },
   "file_extension": ".py",
   "mimetype": "text/x-python",
   "name": "python",
   "nbconvert_exporter": "python",
   "pygments_lexer": "ipython3",
   "version": "3.8.5"
  },
  "orig_nbformat": 2,
  "kernelspec": {
   "name": "python385jvsc74a57bd0037eab3bfc1de7a988b446d1d52928ed42349f477c6ae6e670f28b96d363ba31",
   "display_name": "Python 3.8.5 64-bit ('base': conda)"
  },
  "metadata": {
   "interpreter": {
    "hash": "037eab3bfc1de7a988b446d1d52928ed42349f477c6ae6e670f28b96d363ba31"
   }
  }
 },
 "nbformat": 4,
 "nbformat_minor": 2,
 "cells": [
  {
   "cell_type": "code",
   "execution_count": 1,
   "metadata": {},
   "outputs": [],
   "source": [
    "import numpy as np \n",
    "import pandas as pd \n",
    "import matplotlib.pyplot as plt\n",
    "from matplotlib import image as mp_image\n",
    "import seaborn as sns\n",
    "\n",
    "\n",
    "%matplotlib inline\n",
    "\n",
    "from sklearn import metrics\n",
    "from sklearn.metrics import accuracy_score, confusion_matrix\n",
    "from sklearn.model_selection import train_test_split"
   ]
  },
  {
   "cell_type": "code",
   "execution_count": 4,
   "metadata": {},
   "outputs": [
    {
     "output_type": "stream",
     "name": "stdout",
     "text": [
      "['CAT', 'DOG']\n",
      "Transforming images...\n",
      "processing folder CAT\n",
      "processing folder DOG\n",
      "Done.\n"
     ]
    }
   ],
   "source": [
    "## read all the images, resize them and overwrite the old images with new fixed ones\n",
    "from data_fixer import dataFixer\n",
    "\n",
    "# train DATASET PATH\n",
    "trainFolderPath = '../data/CATS_DOGS/train/'\n",
    "\n",
    "classes = sorted(os.listdir(trainFolderPath))\n",
    "\n",
    "print(classes)\n",
    "\n",
    "## the new size of each image\n",
    "newSize = (128,128)\n",
    "\n",
    "dataFixer(trainFolderPath,size=newSize)"
   ]
  },
  {
   "cell_type": "code",
   "execution_count": 5,
   "metadata": {},
   "outputs": [
    {
     "output_type": "stream",
     "name": "stdout",
     "text": [
      "['CAT', 'DOG']\n",
      "Transforming images...\n",
      "processing folder CAT\n",
      "processing folder DOG\n",
      "Done.\n"
     ]
    }
   ],
   "source": [
    "# test DATASET PATH\n",
    "testFolderPath = '../data/CATS_DOGS/test/'\n",
    "\n",
    "classes = sorted(os.listdir(testFolderPath))\n",
    "\n",
    "print(classes)\n",
    "\n",
    "dataFixer(testFolderPath,size=newSize)"
   ]
  },
  {
   "cell_type": "code",
   "execution_count": 6,
   "metadata": {},
   "outputs": [
    {
     "output_type": "stream",
     "name": "stdout",
     "text": [
      "Data loaders ready to read ../data/CATS_DOGS/train/\n"
     ]
    }
   ],
   "source": [
    "## Prepare the fixed images to be fed to the network\n",
    "\n",
    "from data_loader import loadDataset\n",
    "\n",
    "trainLoader, testLoader = loadDataset(trainFolderPath,testFolderPath)\n",
    "\n",
    "batchSize = trainLoader.batch_size\n",
    "\n",
    "print(\"Data loaders ready to read\", trainFolderPath)"
   ]
  },
  {
   "cell_type": "code",
   "execution_count": null,
   "metadata": {},
   "outputs": [],
   "source": []
  }
 ]
}